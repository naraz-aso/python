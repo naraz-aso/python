{
  "metadata": {
    "language_info": {
      "codemirror_mode": {
        "name": "python",
        "version": 3
      },
      "file_extension": ".py",
      "mimetype": "text/x-python",
      "name": "python",
      "nbconvert_exporter": "python",
      "pygments_lexer": "ipython3",
      "version": "3.8"
    },
    "kernelspec": {
      "name": "python",
      "display_name": "Python (Pyodide)",
      "language": "python"
    }
  },
  "nbformat_minor": 4,
  "nbformat": 4,
  "cells": [
    {
      "cell_type": "markdown",
      "source": "# 変数(variable)\n\n### C, C++\n```C\nint x = 10:\nint y;\nx + 3   printf(...., x);\n```\n\n### python\n```python\nx = 10\ny = 0\nx = \"ddddd\"\nx += 3      print(x)\n```",
      "metadata": {}
    },
    {
      "cell_type": "code",
      "source": "a = 10\n# x = \"abc\"\nprint(a)",
      "metadata": {
        "trusted": true
      },
      "execution_count": 3,
      "outputs": [
        {
          "name": "stdout",
          "text": "10\n",
          "output_type": "stream"
        }
      ]
    },
    {
      "cell_type": "markdown",
      "source": "### 基本データ型\n\n| C    | Python | 日本語 | \n|------|--------|-------|\n| int   | int   | 整数 |\n| long int | -   |\n| signed/unsigned int | - |\n| double | float | 浮動小数点数（実数） |\n| char, String | str | 文字列 |\n| bool (C#)  | bool | 真偽値 |\n\n### コンテナ\n\n| C    | Python | 日本語 | \n|------|--------|-------|\n| xxxx[]     | list | 配列、リスト |\n| Dict(?)     | dict | 辞書 |",
      "metadata": {}
    },
    {
      "cell_type": "markdown",
      "source": "### pythonの問題\n\n```python\n\nx = 10\n\ndef f():\n    x = 100\n    print(x)\n\nf()\nprint(x)\n",
      "metadata": {}
    },
    {
      "cell_type": "code",
      "source": "x = 10\ndef f():       # 関数の定義\n    global x   # これから出てくるxはグローバル変数宣言\n    x = 100\n    print(x)\nf()\nprint(x)",
      "metadata": {
        "trusted": true
      },
      "execution_count": 9,
      "outputs": [
        {
          "name": "stdout",
          "text": "100\n100\n",
          "output_type": "stream"
        }
      ]
    },
    {
      "cell_type": "code",
      "source": "",
      "metadata": {},
      "execution_count": null,
      "outputs": []
    }
  ]
}
